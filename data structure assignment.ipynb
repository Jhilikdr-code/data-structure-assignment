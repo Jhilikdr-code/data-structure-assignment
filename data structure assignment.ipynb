{
 "cells": [
  {
   "cell_type": "code",
   "execution_count": 1,
   "id": "5a4bc6e8-9804-48ee-bdb5-7702b33994ce",
   "metadata": {},
   "outputs": [
    {
     "name": "stdout",
     "output_type": "stream",
     "text": [
      " \"String slicing refers to the process of extracting a portion (substring) of a string by specifying a range of indices. In Python, string slicing uses the format:\n",
      "       start\n",
      "       stop\n",
      "       step\" \n"
     ]
    }
   ],
   "source": [
    "#1  Discuss strong slicing and provide examples\n",
    "print (''' \"String slicing refers to the process of extracting a portion (substring) of a string by specifying a range of indices. In Python, string slicing uses the format:\n",
    "       start\n",
    "       stop\n",
    "       step\" ''')"
   ]
  },
  {
   "cell_type": "code",
   "execution_count": 5,
   "id": "f5f8cb04-a50d-4fff-ab13-a833d5ee80a7",
   "metadata": {},
   "outputs": [
    {
     "data": {
      "text/plain": [
       "'y n'"
      ]
     },
     "execution_count": 5,
     "metadata": {},
     "output_type": "execute_result"
    }
   ],
   "source": [
    "#basic slicing example\n",
    "string= \"My name is Jhilik\"\n",
    "string[1:4] #it starts with index 1 i.e \"y\" and ends with index 4 that will be the index before 4 i.e 3 \"n\""
   ]
  },
  {
   "cell_type": "code",
   "execution_count": 7,
   "id": "9b9feed3-a1fe-4762-a898-6f1ce18c8580",
   "metadata": {},
   "outputs": [
    {
     "data": {
      "text/plain": [
       "'y name is Jhilik'"
      ]
     },
     "execution_count": 7,
     "metadata": {},
     "output_type": "execute_result"
    }
   ],
   "source": [
    "#omitting start or stop\n",
    "string= \"My name is Jhilik\"\n",
    "string[1:] #in this we are saying to start with index 1 i.e.\"y\" and leaving the stop index empty so it'll print the entire string"
   ]
  },
  {
   "cell_type": "code",
   "execution_count": 8,
   "id": "77fe669f-674a-423b-a73f-5e17925543a0",
   "metadata": {},
   "outputs": [
    {
     "data": {
      "text/plain": [
       "'My na'"
      ]
     },
     "execution_count": 8,
     "metadata": {},
     "output_type": "execute_result"
    }
   ],
   "source": [
    "string[:5] #in this we are leaving the start index empty and telling to stop at index 4"
   ]
  },
  {
   "cell_type": "code",
   "execution_count": 9,
   "id": "d5534cc4-97c8-45d3-8038-a6b7381d3ad5",
   "metadata": {},
   "outputs": [
    {
     "data": {
      "text/plain": [
       "'k'"
      ]
     },
     "execution_count": 9,
     "metadata": {},
     "output_type": "execute_result"
    }
   ],
   "source": [
    "#Negative slicing using the same elements of string\n",
    "string[-1:] #here we want only the last character"
   ]
  },
  {
   "cell_type": "code",
   "execution_count": 10,
   "id": "930c5b67-3af4-4dd9-8ede-e4a49e6cd4fa",
   "metadata": {},
   "outputs": [
    {
     "data": {
      "text/plain": [
       "'My name is Jhi'"
      ]
     },
     "execution_count": 10,
     "metadata": {},
     "output_type": "execute_result"
    }
   ],
   "source": [
    "string[:-3] #here we dont want the last 3 characters"
   ]
  },
  {
   "cell_type": "code",
   "execution_count": 13,
   "id": "3d7e49b1-84a2-4d27-bd83-e7cd75f34ec8",
   "metadata": {},
   "outputs": [
    {
     "data": {
      "text/plain": [
       "'M aei hlk'"
      ]
     },
     "execution_count": 13,
     "metadata": {},
     "output_type": "execute_result"
    }
   ],
   "source": [
    "#step slicing using the same elements of string\n",
    "string[::2] #here we are commanding to skip 2 steps"
   ]
  },
  {
   "cell_type": "code",
   "execution_count": 14,
   "id": "1a07bf00-ef7b-4de4-88f9-1e6f7cff09d7",
   "metadata": {},
   "outputs": [
    {
     "data": {
      "text/plain": [
       "'kilihJ si eman yM'"
      ]
     },
     "execution_count": 14,
     "metadata": {},
     "output_type": "execute_result"
    }
   ],
   "source": [
    "#reverse string using the same elements of string\n",
    "string[::-1]"
   ]
  },
  {
   "cell_type": "code",
   "execution_count": 15,
   "id": "7435a28d-3a58-4b5e-9dc0-fe23ccec3fa8",
   "metadata": {},
   "outputs": [
    {
     "name": "stdout",
     "output_type": "stream",
     "text": [
      "Lists - list is an ordered collection of elements that can be of any data type\n"
     ]
    }
   ],
   "source": [
    "#2 Explain the key features of lists in Python\n",
    "print(\"Lists - list is an ordered collection of elements that can be of any data type\")"
   ]
  },
  {
   "cell_type": "code",
   "execution_count": 17,
   "id": "91443585-1a9e-4d9e-9cc2-4836710d7ddb",
   "metadata": {},
   "outputs": [
    {
     "data": {
      "text/plain": [
       "'banana'"
      ]
     },
     "execution_count": 17,
     "metadata": {},
     "output_type": "execute_result"
    }
   ],
   "source": [
    "#ordered\n",
    "string= ['apple','banana','potato',7,53,'jhlik']\n",
    "string[1]"
   ]
  },
  {
   "cell_type": "code",
   "execution_count": 18,
   "id": "6b5be125-43a1-4ec7-a093-c95484b7ac53",
   "metadata": {},
   "outputs": [
    {
     "data": {
      "text/plain": [
       "['apple', 'banana', 83, 7, 53, 'jhlik']"
      ]
     },
     "execution_count": 18,
     "metadata": {},
     "output_type": "execute_result"
    }
   ],
   "source": [
    "string[2]=83 #lists are mutable\n",
    "string"
   ]
  },
  {
   "cell_type": "code",
   "execution_count": 20,
   "id": "92bb622b-311e-46ee-9517-b95e4b15f209",
   "metadata": {},
   "outputs": [
    {
     "data": {
      "text/plain": [
       "['apple', 'banana', 83, 7, 53, 'jhlik', 9, 9]"
      ]
     },
     "execution_count": 20,
     "metadata": {},
     "output_type": "execute_result"
    }
   ],
   "source": [
    "string.append(9) #append means adding new elements to the list\n",
    "string"
   ]
  },
  {
   "cell_type": "code",
   "execution_count": 21,
   "id": "4b6eb9c1-c949-42e0-80e6-dc292485e362",
   "metadata": {},
   "outputs": [
    {
     "data": {
      "text/plain": [
       "['apple', 'banana', 83, 7, 'jhlik', 9, 9]"
      ]
     },
     "execution_count": 21,
     "metadata": {},
     "output_type": "execute_result"
    }
   ],
   "source": [
    "string.remove(53) #remove means removing element from the list\n",
    "string"
   ]
  },
  {
   "cell_type": "code",
   "execution_count": 22,
   "id": "59e80194-1f35-414a-ba7b-0bde5c79b7ff",
   "metadata": {},
   "outputs": [
    {
     "data": {
      "text/plain": [
       "list"
      ]
     },
     "execution_count": 22,
     "metadata": {},
     "output_type": "execute_result"
    }
   ],
   "source": [
    "lis=[[1,2,3],[4,5,6],[7,8,9]]\n",
    "type(lis)"
   ]
  },
  {
   "cell_type": "code",
   "execution_count": 23,
   "id": "7790279b-2512-4d27-ac62-fd6ee32a8b44",
   "metadata": {},
   "outputs": [
    {
     "data": {
      "text/plain": [
       "[2, 4, 6, 8]"
      ]
     },
     "execution_count": 23,
     "metadata": {},
     "output_type": "execute_result"
    }
   ],
   "source": [
    "#list comprehension\n",
    "num=[1,2,3,4]\n",
    "[number*2 for number in num] #List comprehensions provide a concise way to create lists based on existing lists, making them efficient and readable."
   ]
  },
  {
   "cell_type": "code",
   "execution_count": 24,
   "id": "ad38da2c-7471-4c5e-bbf7-3239c319e19d",
   "metadata": {},
   "outputs": [
    {
     "name": "stdout",
     "output_type": "stream",
     "text": [
      "In Python, accessing, modifying, and deleting elements in a list can be done using indexing, slicing, and built-in methods. Here’s a breakdown of each operation with examples.\n"
     ]
    }
   ],
   "source": [
    "#3  Describe how to access, modify, and delete elements in a list with examples\n",
    "print (\"In Python, accessing, modifying, and deleting elements in a list can be done using indexing, slicing, and built-in methods. Here’s a breakdown of each operation with examples.\" )"
   ]
  },
  {
   "cell_type": "code",
   "execution_count": 26,
   "id": "47c23d2b-3e9b-44ad-b550-ff3f454eac7f",
   "metadata": {},
   "outputs": [
    {
     "data": {
      "text/plain": [
       "10"
      ]
     },
     "execution_count": 26,
     "metadata": {},
     "output_type": "execute_result"
    }
   ],
   "source": [
    "#Accessing with Positive Index:\n",
    "my_list = [10, 20, 30, 40, 50]\n",
    "my_list[0] #assessing the first element"
   ]
  },
  {
   "cell_type": "code",
   "execution_count": 27,
   "id": "1aa77bcc-2616-450b-bd04-e4aa6b671d58",
   "metadata": {},
   "outputs": [
    {
     "data": {
      "text/plain": [
       "40"
      ]
     },
     "execution_count": 27,
     "metadata": {},
     "output_type": "execute_result"
    }
   ],
   "source": [
    "#Accessing with Negative Index:\n",
    "my_list = [10, 20, 30, 40, 50]\n",
    "my_list[-2] #2nd last element"
   ]
  },
  {
   "cell_type": "code",
   "execution_count": 29,
   "id": "1a50e965-8124-41d0-b22d-f3c8bee02388",
   "metadata": {},
   "outputs": [
    {
     "data": {
      "text/plain": [
       "[20, 30, 40, 50]"
      ]
     },
     "execution_count": 29,
     "metadata": {},
     "output_type": "execute_result"
    }
   ],
   "source": [
    "#Slicing (to access multiple elements):\n",
    "my_list = [10, 20, 30, 40, 50]\n",
    "my_list[1:5]"
   ]
  },
  {
   "cell_type": "code",
   "execution_count": 30,
   "id": "e7767bd4-30cf-4e53-ad37-a59e9a95701e",
   "metadata": {},
   "outputs": [
    {
     "data": {
      "text/plain": [
       "[10, 20, 25, 40, 50]"
      ]
     },
     "execution_count": 30,
     "metadata": {},
     "output_type": "execute_result"
    }
   ],
   "source": [
    "#Modifying Elements in a List\n",
    "my_list = [10, 20, 30, 40, 50]\n",
    "my_list[2]=25 #it changed 30 to 25\n",
    "my_list"
   ]
  },
  {
   "cell_type": "code",
   "execution_count": 32,
   "id": "82992ec0-3064-4964-a9f1-2d3664e077cf",
   "metadata": {},
   "outputs": [
    {
     "data": {
      "text/plain": [
       "[10, 20, 40, 50]"
      ]
     },
     "execution_count": 32,
     "metadata": {},
     "output_type": "execute_result"
    }
   ],
   "source": [
    "# Deleting Elements from a List\n",
    "my_list = [10, 20, 30, 40, 50]\n",
    "del my_list[2] #it deleted the 2nd index\n",
    "my_list"
   ]
  },
  {
   "cell_type": "code",
   "execution_count": 33,
   "id": "ae0f31d4-0324-4ef1-b3e3-0302f485c9ed",
   "metadata": {},
   "outputs": [
    {
     "data": {
      "text/plain": [
       "[10, 20, 40, 50]"
      ]
     },
     "execution_count": 33,
     "metadata": {},
     "output_type": "execute_result"
    }
   ],
   "source": [
    "#Removing Specific Elements\n",
    "my_list = [10, 20, 30, 40, 50]\n",
    "my_list.remove(30)\n",
    "(my_list)"
   ]
  },
  {
   "cell_type": "code",
   "execution_count": 35,
   "id": "6cae2d5c-10da-4841-b46c-c65ffecf98f4",
   "metadata": {},
   "outputs": [
    {
     "data": {
      "text/plain": [
       "[10, 20, 40, 50]"
      ]
     },
     "execution_count": 35,
     "metadata": {},
     "output_type": "execute_result"
    }
   ],
   "source": [
    "#Removing an Element by Index with pop\n",
    "my_list = [10, 20, 30, 40, 50]\n",
    "popped_value = my_list.pop(2)\n",
    "(my_list) "
   ]
  },
  {
   "cell_type": "code",
   "execution_count": 36,
   "id": "b3380f15-f816-4f0e-90b2-f68f9621c7c5",
   "metadata": {},
   "outputs": [
    {
     "data": {
      "text/plain": [
       "30"
      ]
     },
     "execution_count": 36,
     "metadata": {},
     "output_type": "execute_result"
    }
   ],
   "source": [
    "popped_value"
   ]
  },
  {
   "cell_type": "code",
   "execution_count": 37,
   "id": "30b06aef-5363-42e8-a85e-27d5132c3627",
   "metadata": {},
   "outputs": [
    {
     "data": {
      "text/plain": [
       "[]"
      ]
     },
     "execution_count": 37,
     "metadata": {},
     "output_type": "execute_result"
    }
   ],
   "source": [
    "#Clearing the Entire List:\n",
    "my_list.clear()\n",
    "(my_list)"
   ]
  },
  {
   "cell_type": "code",
   "execution_count": 40,
   "id": "82f0ae15-fa93-46f2-be2c-dd30cc2ec45e",
   "metadata": {},
   "outputs": [
    {
     "name": "stdout",
     "output_type": "stream",
     "text": [
      "\"Use lists when you need to store a collection of items that will change over time (e.g., a to-do list, or elements you need to sort).\n",
      "Use tuples when you need a collection of fixed, unchangeable items (e.g., representing a row in a database, coordinates).\"\n"
     ]
    }
   ],
   "source": [
    "#4 Compare and contrast tuples and lists with examples\n",
    "print('''\"Use lists when you need to store a collection of items that will change over time (e.g., a to-do list, or elements you need to sort).\n",
    "Use tuples when you need a collection of fixed, unchangeable items (e.g., representing a row in a database, coordinates).\"''')"
   ]
  },
  {
   "cell_type": "code",
   "execution_count": 41,
   "id": "d09c51eb-871c-4238-a5b2-7f0d3e55c16f",
   "metadata": {},
   "outputs": [
    {
     "data": {
      "text/plain": [
       "['apple', 'lemon', 55, 'jhilik', 123]"
      ]
     },
     "execution_count": 41,
     "metadata": {},
     "output_type": "execute_result"
    }
   ],
   "source": [
    "#mutability\n",
    "#lists are mutable whereas tuples are immutable\n",
    "string1=['apple','lemon',5,'jhilik',123]\n",
    "string1[2]=55\n",
    "string1"
   ]
  },
  {
   "cell_type": "code",
   "execution_count": 42,
   "id": "81418edf-53a5-436c-a26f-ad482273af6e",
   "metadata": {},
   "outputs": [
    {
     "data": {
      "text/plain": [
       "list"
      ]
     },
     "execution_count": 42,
     "metadata": {},
     "output_type": "execute_result"
    }
   ],
   "source": [
    "#syntax\n",
    "#lists uses [] whereas tuples uses ()\n",
    "string1=['apple','lemon',5,'jhilik',123]\n",
    "type(string1)"
   ]
  },
  {
   "cell_type": "code",
   "execution_count": 43,
   "id": "e18a957b-5eee-401b-8908-839ab981f859",
   "metadata": {},
   "outputs": [
    {
     "data": {
      "text/plain": [
       "tuple"
      ]
     },
     "execution_count": 43,
     "metadata": {},
     "output_type": "execute_result"
    }
   ],
   "source": [
    "tup=('apple','lemon',5,'jhilik',123)\n",
    "type(tup)"
   ]
  },
  {
   "cell_type": "code",
   "execution_count": 49,
   "id": "522fc4a6-8d26-4b31-97ad-f372bd56aa34",
   "metadata": {},
   "outputs": [
    {
     "name": "stdout",
     "output_type": "stream",
     "text": [
      "20\n"
     ]
    }
   ],
   "source": [
    "#Both lists and tuples support indexing and slicing to access elements.\n",
    "my_list = [10, 20, 30]\n",
    "my_tuple = (10, 20, 30)\n",
    "\n",
    "print(my_list[1]) "
   ]
  },
  {
   "cell_type": "code",
   "execution_count": 50,
   "id": "9e93bced-26c5-4125-a494-d9923f938f42",
   "metadata": {},
   "outputs": [
    {
     "name": "stdout",
     "output_type": "stream",
     "text": [
      "30\n"
     ]
    }
   ],
   "source": [
    "print(my_tuple[-1])"
   ]
  },
  {
   "cell_type": "code",
   "execution_count": 51,
   "id": "52a6e68b-e7ee-465b-ae42-6ad90d530285",
   "metadata": {},
   "outputs": [
    {
     "name": "stdout",
     "output_type": "stream",
     "text": [
      "[10, 25, 30]\n"
     ]
    }
   ],
   "source": [
    "#Lists allow you to modify, add, or remove elements.\n",
    "#Tuples do not allow modification after creation, though you can concatenate or multiply tuples to create new ones.\n",
    "my_list = [10, 20, 30]\n",
    "my_list[1] = 25  # List allows modification\n",
    "print(my_list)  \n"
   ]
  },
  {
   "cell_type": "code",
   "execution_count": 52,
   "id": "d0badd67-839b-48c0-b37e-9c443d2ff099",
   "metadata": {},
   "outputs": [
    {
     "name": "stdout",
     "output_type": "stream",
     "text": [
      "(10, 20, 30, 40, 50)\n"
     ]
    }
   ],
   "source": [
    "my_tuple = (10, 20, 30)\n",
    "# my_tuple[1] = 25  # This would raise an error\n",
    "\n",
    "# However, you can concatenate tuples\n",
    "new_tuple = my_tuple + (40, 50)\n",
    "print(new_tuple)  \n"
   ]
  },
  {
   "cell_type": "code",
   "execution_count": 53,
   "id": "ca382c74-7f95-47d1-bbfc-09d014352a17",
   "metadata": {},
   "outputs": [
    {
     "name": "stdout",
     "output_type": "stream",
     "text": [
      "\"the key features of sets are:\n",
      "Unordered: No specific order, so no indexing.\n",
      "Unique Elements: Automatically removes duplicates.\n",
      "Mutable: You can add or remove elements (except for frozensets).\n",
      "Fast Membership Testing: Optimized for checking if an item exists.\n",
      "Set Operations: Support for union, intersection, difference, and symmetric difference.\"\n"
     ]
    }
   ],
   "source": [
    "#5 Describe the key features of sets and provide examples of their uses\n",
    "print('''\"the key features of sets are:\n",
    "Unordered: No specific order, so no indexing.\n",
    "Unique Elements: Automatically removes duplicates.\n",
    "Mutable: You can add or remove elements (except for frozensets).\n",
    "Fast Membership Testing: Optimized for checking if an item exists.\n",
    "Set Operations: Support for union, intersection, difference, and symmetric difference.\"''')"
   ]
  },
  {
   "cell_type": "code",
   "execution_count": 54,
   "id": "66caeb28-2f5c-412e-b874-c8c1bc5b8387",
   "metadata": {},
   "outputs": [
    {
     "data": {
      "text/plain": [
       "{1, 3, 5, 7}"
      ]
     },
     "execution_count": 54,
     "metadata": {},
     "output_type": "execute_result"
    }
   ],
   "source": [
    "#unordered\n",
    "my_set = {1, 3, 5, 7}\n",
    "my_set  #(order may vary)"
   ]
  },
  {
   "cell_type": "code",
   "execution_count": 55,
   "id": "a8fd961a-bc51-411f-9208-c8d177861bc8",
   "metadata": {},
   "outputs": [
    {
     "data": {
      "text/plain": [
       "{1, 2, 3, 4}"
      ]
     },
     "execution_count": 55,
     "metadata": {},
     "output_type": "execute_result"
    }
   ],
   "source": [
    "#unique elements\n",
    "my_set = {1, 2, 2, 3, 4, 4}\n",
    "my_set"
   ]
  },
  {
   "cell_type": "code",
   "execution_count": 56,
   "id": "c4427a00-4199-4273-ac37-47d436149978",
   "metadata": {},
   "outputs": [
    {
     "data": {
      "text/plain": [
       "{1, 3, 4}"
      ]
     },
     "execution_count": 56,
     "metadata": {},
     "output_type": "execute_result"
    }
   ],
   "source": [
    "#mutable\n",
    "my_set = {1, 2, 3}\n",
    "my_set.add(4)   # Adding an element\n",
    "my_set.remove(2)  # Removing an element\n",
    "my_set"
   ]
  },
  {
   "cell_type": "code",
   "execution_count": 57,
   "id": "08523836-56e7-42f7-a89b-62f59d46a792",
   "metadata": {},
   "outputs": [
    {
     "data": {
      "text/plain": [
       "True"
      ]
     },
     "execution_count": 57,
     "metadata": {},
     "output_type": "execute_result"
    }
   ],
   "source": [
    "#membership testing\n",
    "my_set = {1, 2, 3, 4, 5}\n",
    "3 in my_set"
   ]
  },
  {
   "cell_type": "code",
   "execution_count": 58,
   "id": "d85f635d-7d01-4a99-8641-fc429bc99a98",
   "metadata": {},
   "outputs": [
    {
     "data": {
      "text/plain": [
       "{'Emma'}"
      ]
     },
     "execution_count": 58,
     "metadata": {},
     "output_type": "execute_result"
    }
   ],
   "source": [
    "#mathematical set operations\n",
    "students_A = {\"John\", \"Emma\", \"Sophia\"}\n",
    "students_B = {\"Emma\", \"Liam\", \"Noah\"}\n",
    "common_students = students_A & students_B\n",
    "common_students"
   ]
  },
  {
   "cell_type": "code",
   "execution_count": 59,
   "id": "baacb8f6-641d-4cad-a407-75f993d88d6d",
   "metadata": {},
   "outputs": [],
   "source": [
    "#6 Discuss the use cases of tuples and sets in Python programming"
   ]
  },
  {
   "cell_type": "code",
   "execution_count": 60,
   "id": "3089f380-c11b-4134-877d-b64e5ae7f78f",
   "metadata": {},
   "outputs": [],
   "source": [
    "#1. Fixed Data Collections\n",
    "# Tuples are ideal for representing fixed collections of data that shouldn’t change during the program's execution. For example, use tuples to represent constant data like coordinates, RGB color values, or configuration settings.\n",
    "coordinates = (40.7128, 74.0060)  # Latitude and longitude for a location\n",
    "rgb_color = (255, 0, 0)  # RGB colour\n"
   ]
  },
  {
   "cell_type": "code",
   "execution_count": 61,
   "id": "4a73b4a4-97fb-4b64-ba2f-ba8c71b60dc1",
   "metadata": {},
   "outputs": [
    {
     "data": {
      "text/plain": [
       "{1, 2, 3, 4, 5}"
      ]
     },
     "execution_count": 61,
     "metadata": {},
     "output_type": "execute_result"
    }
   ],
   "source": [
    "#Sets automatically discard duplicate values. This makes them ideal for situations where you need to ensure that a collection of items contains only unique values.\n",
    "numbers = [1, 2, 2, 3, 4, 4, 5]\n",
    "unique_numbers = set(numbers)\n",
    "unique_numbers"
   ]
  },
  {
   "cell_type": "code",
   "execution_count": 62,
   "id": "02dea090-ab7d-456c-9cff-c5441f2348e4",
   "metadata": {},
   "outputs": [],
   "source": [
    "# Data Integrity\n",
    "#Since tuples are immutable, they are useful for ensuring that data remains unmodified. This is especially helpful when passing data to functions where you don’t want the data to be altered.\n",
    "user_info = (\"John\", \"Doe\", 29)  # Tuple to store user info that shouldn't be modified"
   ]
  },
  {
   "cell_type": "code",
   "execution_count": 64,
   "id": "71c8a01e-7534-4597-90d0-e21a3dfa72ca",
   "metadata": {},
   "outputs": [
    {
     "name": "stdout",
     "output_type": "stream",
     "text": [
      "fruits\n"
     ]
    }
   ],
   "source": [
    "#Membership Testing\n",
    "#Sets are optimized for fast membership testing. If you frequently need to check whether an item exists in a collection, a set will be faster than a list.\n",
    "a = {\"apple\", \"banana\", \"guava\"}\n",
    "if \"apple\" in a:\n",
    "    print(\"fruits\")"
   ]
  },
  {
   "cell_type": "code",
   "execution_count": 66,
   "id": "214b73f8-79f3-46c9-a507-bb27c1a2b4c8",
   "metadata": {},
   "outputs": [
    {
     "data": {
      "text/plain": [
       "'New York'"
      ]
     },
     "execution_count": 66,
     "metadata": {},
     "output_type": "execute_result"
    }
   ],
   "source": [
    "# Dictionary Keys\n",
    "#Since tuples are immutable, they can be used as keys in dictionaries (unlike lists). This is useful for associating compound data with values.\n",
    "locations = {\n",
    "    (40.7128, 74.0060): \"New York\",\n",
    "    (51.5074, -0.1278): \"London\"\n",
    "}\n",
    "locations[(40.7128, 74.0060)] \n"
   ]
  },
  {
   "cell_type": "code",
   "execution_count": 67,
   "id": "0057a020-194b-41c4-8316-590391d67581",
   "metadata": {},
   "outputs": [
    {
     "name": "stdout",
     "output_type": "stream",
     "text": [
      "{1, 2, 3, 4, 5}\n"
     ]
    }
   ],
   "source": [
    "# Mathematical Set Operations\n",
    "#Sets support operations like union, intersection, difference, and symmetric difference. These operations are useful in many real-world scenarios such as filtering datasets or combining distinct collections of items.\n",
    "#union\n",
    "set1 = {1, 2, 3}\n",
    "set2 = {3, 4, 5}\n",
    "print(set1 | set2) "
   ]
  },
  {
   "cell_type": "code",
   "execution_count": 68,
   "id": "cc999323-e106-4ea4-acb2-f567dc379064",
   "metadata": {},
   "outputs": [
    {
     "name": "stdout",
     "output_type": "stream",
     "text": [
      "{3}\n"
     ]
    }
   ],
   "source": [
    "#intersection\n",
    "print(set1 & set2) "
   ]
  },
  {
   "cell_type": "code",
   "execution_count": 69,
   "id": "3587eaa2-4c07-48dc-9ca2-452d841c8b98",
   "metadata": {},
   "outputs": [
    {
     "name": "stdout",
     "output_type": "stream",
     "text": [
      "{1, 2}\n"
     ]
    }
   ],
   "source": [
    "#difference\n",
    "print(set1 - set2) "
   ]
  },
  {
   "cell_type": "code",
   "execution_count": 70,
   "id": "39fde412-6424-485f-8927-49a95d53624a",
   "metadata": {},
   "outputs": [],
   "source": [
    "#7  Describe how to add, modify and delete items in a dictionary with examples"
   ]
  },
  {
   "cell_type": "code",
   "execution_count": 71,
   "id": "9057f997-897c-4763-be78-333062ab10c6",
   "metadata": {},
   "outputs": [
    {
     "data": {
      "text/plain": [
       "{'name': 'John', 'age': 30}"
      ]
     },
     "execution_count": 71,
     "metadata": {},
     "output_type": "execute_result"
    }
   ],
   "source": [
    "#add\n",
    "#You can add items to a dictionary by assigning a value to a new key. If the key doesn’t already exist, it will be added.\n",
    "# Creating an empty dictionary\n",
    "my_dict = {}\n",
    "\n",
    "# Adding key-value pairs\n",
    "my_dict[\"name\"] = \"John\"\n",
    "my_dict[\"age\"] = 30\n",
    "my_dict"
   ]
  },
  {
   "cell_type": "code",
   "execution_count": 72,
   "id": "f9753b94-55c9-46d5-bff0-86e0839272ba",
   "metadata": {},
   "outputs": [
    {
     "data": {
      "text/plain": [
       "{'name': 'John', 'age': 30, 'city': 'New York', 'job': 'Engineer'}"
      ]
     },
     "execution_count": 72,
     "metadata": {},
     "output_type": "execute_result"
    }
   ],
   "source": [
    "my_dict.update({\"city\": \"New York\", \"job\": \"Engineer\"})\n",
    "my_dict"
   ]
  },
  {
   "cell_type": "code",
   "execution_count": 73,
   "id": "b3d23f56-cf0a-4379-a680-17801215a01d",
   "metadata": {},
   "outputs": [
    {
     "data": {
      "text/plain": [
       "{'name': 'John', 'age': 31, 'city': 'San Francisco'}"
      ]
     },
     "execution_count": 73,
     "metadata": {},
     "output_type": "execute_result"
    }
   ],
   "source": [
    "#modify\n",
    "#To modify an item in a dictionary, you simply assign a new value to an existing key. If the key already exists, its value will be updated.\n",
    "my_dict = {\"name\": \"John\", \"age\": 30, \"city\": \"New York\"}\n",
    "\n",
    "# Modifying the value of an existing key\n",
    "my_dict[\"age\"] = 31\n",
    "my_dict[\"city\"] = \"San Francisco\"\n",
    "my_dict"
   ]
  },
  {
   "cell_type": "code",
   "execution_count": 74,
   "id": "d19f0bb4-33ed-4ec9-a7c0-c1f550c36b2f",
   "metadata": {},
   "outputs": [
    {
     "data": {
      "text/plain": [
       "{'name': 'John', 'age': 32, 'city': 'San Francisco', 'job': 'Senior Engineer'}"
      ]
     },
     "execution_count": 74,
     "metadata": {},
     "output_type": "execute_result"
    }
   ],
   "source": [
    "my_dict.update({\"age\": 32, \"job\": \"Senior Engineer\"})\n",
    "my_dict"
   ]
  },
  {
   "cell_type": "code",
   "execution_count": 75,
   "id": "2703ec36-4104-411a-b0ec-bd05273b6368",
   "metadata": {},
   "outputs": [
    {
     "data": {
      "text/plain": [
       "{'name': 'John', 'age': 30}"
      ]
     },
     "execution_count": 75,
     "metadata": {},
     "output_type": "execute_result"
    }
   ],
   "source": [
    "#delete\n",
    "#The del keyword removes the key-value pair by specifying the key. If the key does not exist, it raises a KeyError.\n",
    "my_dict = {\"name\": \"John\", \"age\": 30, \"city\": \"New York\"}\n",
    "\n",
    "del my_dict[\"city\"]\n",
    "my_dict"
   ]
  },
  {
   "cell_type": "code",
   "execution_count": 76,
   "id": "b591cd61-26e4-4e33-9098-462ba331b62e",
   "metadata": {},
   "outputs": [
    {
     "name": "stdout",
     "output_type": "stream",
     "text": [
      "In Python, dictionary keys must be immutable, meaning that once they are created, their value cannot be changed. This is because dictionaries rely on hashing to store and retrieve data efficiently. Immutable keys ensure that the hash values of keys remain constant, enabling fast lookups, insertions, and deletions.\n"
     ]
    }
   ],
   "source": [
    "#8  Discuss the importance of dictionary keys being immutable and provide examples\n",
    "print(\"In Python, dictionary keys must be immutable, meaning that once they are created, their value cannot be changed. This is because dictionaries rely on hashing to store and retrieve data efficiently. Immutable keys ensure that the hash values of keys remain constant, enabling fast lookups, insertions, and deletions.\")"
   ]
  },
  {
   "cell_type": "code",
   "execution_count": 77,
   "id": "776f20c9-aabc-4eba-b344-c637e39530c8",
   "metadata": {},
   "outputs": [
    {
     "name": "stdout",
     "output_type": "stream",
     "text": [
      "Alice\n"
     ]
    }
   ],
   "source": [
    " # using strings as dictionary keys\n",
    "my_dict = {\"name\": \"Alice\", \"age\": 30}\n",
    "print(my_dict[\"name\"])  \n",
    "                              \n"
   ]
  },
  {
   "cell_type": "code",
   "execution_count": 80,
   "id": "68d07bc3-8c3e-48ae-9955-da43d7cdeec7",
   "metadata": {},
   "outputs": [
    {
     "name": "stdout",
     "output_type": "stream",
     "text": [
      "two\n"
     ]
    }
   ],
   "source": [
    "#numbers\n",
    "my_dict = {1: \"one\", 2: \"two\", 3: \"three\"}\n",
    "print(my_dict[2])  \n"
   ]
  },
  {
   "cell_type": "code",
   "execution_count": 79,
   "id": "fe5963d9-1883-48c0-a714-03975e091815",
   "metadata": {},
   "outputs": [
    {
     "name": "stdout",
     "output_type": "stream",
     "text": [
      "coordinates\n"
     ]
    }
   ],
   "source": [
    "#tuples\n",
    "my_dict = {(1, 2): \"coordinates\", (3, 4): \"more coordinates\"}\n",
    "print(my_dict[(1, 2)]) "
   ]
  }
 ],
 "metadata": {
  "kernelspec": {
   "display_name": "Python 3 (ipykernel)",
   "language": "python",
   "name": "python3"
  },
  "language_info": {
   "codemirror_mode": {
    "name": "ipython",
    "version": 3
   },
   "file_extension": ".py",
   "mimetype": "text/x-python",
   "name": "python",
   "nbconvert_exporter": "python",
   "pygments_lexer": "ipython3",
   "version": "3.10.8"
  }
 },
 "nbformat": 4,
 "nbformat_minor": 5
}
